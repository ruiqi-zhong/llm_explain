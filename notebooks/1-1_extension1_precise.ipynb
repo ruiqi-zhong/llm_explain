{
 "cells": [
  {
   "cell_type": "code",
   "execution_count": 1,
   "metadata": {},
   "outputs": [],
   "source": [
    "from llm_explain.llm.propose import propose, create_proposer_diff_prompt_body\n",
    "\n",
    "X = [\"cat\", \"dog\", \"fish\", \"carrot\", \"potato\", \"apple\"]\n",
    "Y = [False, False, False, True, True, True]"
   ]
  },
  {
   "cell_type": "markdown",
   "metadata": {},
   "source": [
    "### Proposer Prompt for More Precise Explanations"
   ]
  },
  {
   "cell_type": "code",
   "execution_count": 2,
   "metadata": {},
   "outputs": [
    {
     "name": "stdout",
     "output_type": "stream",
     "text": [
      "\n",
      "Here are two sets of text x_samples.\n",
      "\n",
      "Some x_samples from the negative class:\n",
      "Negative class sample.0: cat\n",
      "Negative class sample.1: dog\n",
      "Negative class sample.2: fish\n",
      "\n",
      "Some x_samples from the positive class:\n",
      "Positive class sample.0: carrot\n",
      "Positive class sample.1: potato\n",
      "Positive class sample.2: apple\n",
      "\n",
      "We want to understand what kind of text x_samples are more likely to be in the positive class. Please suggest me at most 3 descriptions. Each of them needs to be a predicate about a text followed by an explanation and an example that satisfies the predicate.. Each predicate needs to be wrapped in <predicate> tags.\n",
      "\n",
      "Here are some example predicates:\n",
      "<predicate>uses double negation; specifically, there is a sentence in the text that uses negation twice. For example, 'the pilot did not never had an accident'</predicate>\n",
      "<predicate>has a conservative stance; specifically, the overall text exhibits a conservative political stance (e.g. pro-life, deregulation, etc). For example, 'Fetus is sentient so we should not abort.'</predicate>\n",
      "\n",
      "Just output the predicates surrounded by <predicate> tags. Do not include any other text.\n",
      "\n"
     ]
    }
   ],
   "source": [
    "proposer_prompt = create_proposer_diff_prompt_body(\n",
    "    X,\n",
    "    Y,\n",
    "    num_explanations=3,\n",
    "    precise=True,\n",
    ")\n",
    "print(proposer_prompt)"
   ]
  },
  {
   "cell_type": "markdown",
   "metadata": {},
   "source": [
    "### Example of Proposed Explanations\n",
    "\n",
    "Because our prompt tries to make explanation more precise, the generated explanations are also more precise."
   ]
  },
  {
   "cell_type": "code",
   "execution_count": 3,
   "metadata": {},
   "outputs": [
    {
     "name": "stdout",
     "output_type": "stream",
     "text": [
      "- is related to food; specifically, the text mentions items that are commonly consumed as food, often indicating a type of vegetable or fruit. For example, 'Tomato soup is delicious.'\n",
      "- mentions plant-based items; specifically, the text includes references to plants or plant-derived products used in cooking or eating. For example, 'Spinach is a healthy leafy green.'\n",
      "- describes agricultural products; specifically, the text discusses items that are grown and harvested, particularly crops. For example, 'Corn is one of the most versatile crops.'\n",
      "- is related to cooking ingredients; specifically, the text talks about components often used in recipes or cooking. For example, 'Onions and garlic are essential for flavor.'\n",
      "- includes healthy food references; specifically, the text talks about foods generally considered nutritious. For example, 'Blueberries are a great source of antioxidants.'\n"
     ]
    }
   ],
   "source": [
    "proposed_explanations = propose(x_samples=X, y=Y, precise=True)\n",
    "for explanation in proposed_explanations:\n",
    "    print(\"-\", explanation)"
   ]
  }
 ],
 "metadata": {
  "kernelspec": {
   "display_name": "llm-explain",
   "language": "python",
   "name": "python3"
  },
  "language_info": {
   "codemirror_mode": {
    "name": "ipython",
    "version": 3
   },
   "file_extension": ".py",
   "mimetype": "text/x-python",
   "name": "python",
   "nbconvert_exporter": "python",
   "pygments_lexer": "ipython3",
   "version": "3.9.21"
  }
 },
 "nbformat": 4,
 "nbformat_minor": 2
}
