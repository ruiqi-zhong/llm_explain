{
 "cells": [
  {
   "cell_type": "code",
   "execution_count": 1,
   "metadata": {},
   "outputs": [],
   "source": [
    "from llm_explain.llm.propose import create_proposer_diff_prompt_body\n",
    "\n",
    "X = [\"cat\", \"dog\", \"fish\", \"carrot\", \"potato\", \"apple\"]\n",
    "Y = [False, False, False, True, True, True]"
   ]
  },
  {
   "cell_type": "markdown",
   "metadata": {},
   "source": [
    "### Proposer Prompt for More Precise Explanations"
   ]
  },
  {
   "cell_type": "code",
   "execution_count": 2,
   "metadata": {},
   "outputs": [
    {
     "name": "stdout",
     "output_type": "stream",
     "text": [
      "\n",
      "Here are two sets of text x_samples.\n",
      "\n",
      "Some x_samples from the negative class:\n",
      "Negative class sample.0: cat\n",
      "Negative class sample.1: dog\n",
      "Negative class sample.2: fish\n",
      "\n",
      "Some x_samples from the positive class:\n",
      "Positive class sample.0: carrot\n",
      "Positive class sample.1: potato\n",
      "Positive class sample.2: apple\n",
      "\n",
      "We want to understand what kind of text x_samples are more likely to be in the positive class. Please suggest me at most 3 descriptions. Each of them needs to be a predicate about a text followed by an explanation and an example that satisfies the predicate.. Each predicate needs to be wrapped in <predicate> tags.\n",
      "\n",
      "Here are some example predicates:\n",
      "<predicate>uses double negation; specifically, there is a sentence in the text that uses negation twice. For example, 'the pilot did not never had an accident'</predicate>\n",
      "<predicate>has a conservative stance; specifically, the overall text exhibits a conservative political stance (e.g. pro-life, deregulation, etc). For example, 'Fetus is sentient so we should not abort.'</predicate>\n",
      "\n",
      "Just output the predicates surrounded by <predicate> tags. Do not include any other text.\n",
      "\n"
     ]
    }
   ],
   "source": [
    "proposer_prompt = create_proposer_diff_prompt_body(\n",
    "    X,\n",
    "    Y,\n",
    "    num_explanations=3,\n",
    "    precise=True,\n",
    ")\n",
    "print(proposer_prompt)"
   ]
  },
  {
   "cell_type": "markdown",
   "metadata": {},
   "source": [
    "### Example of Proposed Explanations\n",
    "\n",
    "Because our prompt tries to make explanation more precise, the generated explanations are also more precise."
   ]
  },
  {
   "cell_type": "code",
   "execution_count": 3,
   "metadata": {},
   "outputs": [
    {
     "name": "stdout",
     "output_type": "stream",
     "text": [
      "- is related to vegetables or fruits; specifically, the text mentions items that are commonly considered plant-based foods and not animals. For example, 'The dish included carrot and potato.'\n",
      "- mentions edible plants; specifically, the text includes references to parts of plants that are commonly consumed as food. For example, 'Eating an apple daily is healthy.'\n",
      "- includes agricultural produce; specifically, mentions items that are typically harvested from farms and are plant-based. For example, 'Farmers market had fresh carrots.'\n",
      "- references food items that are plant-derived; specifically, mentions foods that are derived from plants rather than animals. For example, 'Potatoes are great when baked.'\n",
      "- discusses fruits or vegetables; specifically, the text includes discussion about or a mention of foods that are fruits or vegetables. For example, 'She sliced apples for the pie.'\n"
     ]
    }
   ],
   "source": [
    "proposed_explanations = propose(x_samples=X, y=Y, precise=True)\n",
    "for explanation in proposed_explanations:\n",
    "    print(\"-\", explanation)"
   ]
  }
 ],
 "metadata": {
  "kernelspec": {
   "display_name": "llm-explain",
   "language": "python",
   "name": "python3"
  },
  "language_info": {
   "codemirror_mode": {
    "name": "ipython",
    "version": 3
   },
   "file_extension": ".py",
   "mimetype": "text/x-python",
   "name": "python",
   "nbconvert_exporter": "python",
   "pygments_lexer": "ipython3",
   "version": "3.9.21"
  }
 },
 "nbformat": 4,
 "nbformat_minor": 2
}
