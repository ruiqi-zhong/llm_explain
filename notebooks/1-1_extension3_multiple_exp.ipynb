{
 "cells": [
  {
   "cell_type": "code",
   "execution_count": 4,
   "metadata": {},
   "outputs": [],
   "source": [
    "from data.samples import get_goal_driven_examples\n",
    "from llm_explain.models.diff import explain_diff, KSparseRegression\n",
    "import numpy as np"
   ]
  },
  {
   "cell_type": "markdown",
   "metadata": {},
   "source": [
    "### Comparing datasets of airline reviews.\n",
    "\n",
    "In this dataset, the dominant difference is about food, but the service attitude is also a big difference. We will show that fitting a linear model on top can help us extract multiple explanations."
   ]
  },
  {
   "cell_type": "code",
   "execution_count": 2,
   "metadata": {},
   "outputs": [],
   "source": [
    "dataset = get_goal_driven_examples()"
   ]
  },
  {
   "cell_type": "markdown",
   "metadata": {},
   "source": [
    "If we naively apply our method, all top explanations might have similar meaning."
   ]
  },
  {
   "cell_type": "code",
   "execution_count": 3,
   "metadata": {},
   "outputs": [
    {
     "name": "stdout",
     "output_type": "stream",
     "text": [
      "Printing top 3 explanations:\n",
      "Explanation: expresses satisfaction with in-flight dining experience; specifically, the text conveys enjoyment or delight with the meal service provided. For example, 'vraiment satisfait de mon expérience culinaire.'\n",
      "Accuracy: 0.7857142857142857\n",
      "\n",
      "Explanation: describes the quality of food; specifically, the text makes reference to the enjoyment or taste of meals provided. For example, 'le dîner est excellent'\n",
      "Accuracy: 0.7857142857142857\n",
      "\n",
      "Explanation: focuses on culinary experiences; specifically, the text highlights different dishes or flavors offered during the flight. For example, 'meilleur repas que j'ai eu depuis longtemps'\n",
      "Accuracy: 0.75\n",
      "\n",
      "\n"
     ]
    }
   ],
   "source": [
    "result = explain_diff(**dataset, proposer_num_rounds=5, proposer_num_explanations_per_round=3, proposer_precise=True)\n",
    "\n",
    "print(result)"
   ]
  },
  {
   "cell_type": "code",
   "execution_count": 5,
   "metadata": {},
   "outputs": [
    {
     "name": "stdout",
     "output_type": "stream",
     "text": [
      "2: expresses satisfaction with in-flight dining experience; specifically, the text conveys enjoyment or delight with the meal service provided. For example, 'vraiment satisfait de mon expérience culinaire.'\n",
      "  coef: 2.734332463950064\n",
      "4: praises the attentiveness of the cabin crew; specifically, the text describes the cabin crew's efforts to provide exceptional service. For example, 'flight attendants went above and beyond.'\n",
      "  coef: 1.8870186454640325\n"
     ]
    }
   ],
   "source": [
    "### Extracting multiple explanations by fitting a linear model on top\n",
    "\n",
    "feature_vals = np.array(result.validation_results).T\n",
    "\n",
    "explanation_coefs = KSparseRegression(feature_vals, result.Y, K=2)\n",
    "\n",
    "for explanation_idx, explanation in enumerate(result.all_explanations):\n",
    "    if explanation_coefs[explanation_idx] != 0:\n",
    "        print(f\"{explanation_idx}: {explanation}\")\n",
    "        print(f\"  coef: {explanation_coefs[explanation_idx]}\")"
   ]
  }
 ],
 "metadata": {
  "kernelspec": {
   "display_name": "llm-explain",
   "language": "python",
   "name": "python3"
  },
  "language_info": {
   "codemirror_mode": {
    "name": "ipython",
    "version": 3
   },
   "file_extension": ".py",
   "mimetype": "text/x-python",
   "name": "python",
   "nbconvert_exporter": "python",
   "pygments_lexer": "ipython3",
   "version": "3.9.21"
  }
 },
 "nbformat": 4,
 "nbformat_minor": 2
}
