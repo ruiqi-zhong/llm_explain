{
 "cells": [
  {
   "cell_type": "code",
   "execution_count": 1,
   "metadata": {},
   "outputs": [],
   "source": [
    "from llm_explain.data.samples import get_goal_driven_examples\n",
    "from llm_explain.models.diff import explain_diff, KSparseRegression\n",
    "import numpy as np"
   ]
  },
  {
   "cell_type": "markdown",
   "metadata": {},
   "source": [
    "### Comparing datasets of airline reviews.\n",
    "\n",
    "In this dataset, the dominant difference is about food, but the service attitude is also a big difference. We will show that fitting a linear model on top can help us extract multiple explanations."
   ]
  },
  {
   "cell_type": "code",
   "execution_count": 2,
   "metadata": {},
   "outputs": [],
   "source": [
    "dataset = get_goal_driven_examples()"
   ]
  },
  {
   "cell_type": "markdown",
   "metadata": {},
   "source": [
    "If we naively apply our method, all top explanations might have similar meaning."
   ]
  },
  {
   "cell_type": "code",
   "execution_count": 3,
   "metadata": {},
   "outputs": [
    {
     "name": "stderr",
     "output_type": "stream",
     "text": [
      "===2025-05-09 16:39:42 - diff.py - Line 92 - INFO ===\n",
      " Proposing explanations...\n",
      "\n",
      "\n",
      "Proposing explanations:   0%|          | 0/5 [00:00<?, ?it/s]"
     ]
    },
    {
     "name": "stderr",
     "output_type": "stream",
     "text": [
      "Proposing explanations: 100%|██████████| 5/5 [00:08<00:00,  1.61s/it]\n",
      "===2025-05-09 16:39:50 - diff.py - Line 97 - INFO ===\n",
      " Validating explanations, 15 explanations x 28 x_samples\n",
      "\n",
      "\n",
      "Validating explanations: 100%|██████████| 420/420 [00:42<00:00,  9.89it/s]"
     ]
    },
    {
     "name": "stdout",
     "output_type": "stream",
     "text": [
      "Printing top 3 explanations:\n",
      "Explanation: expresses delight in the dining experience; specifically, the text conveys enjoyment and satisfaction with the culinary aspects of the flight. For example, 'vraiment satisfait de mon expérience culinaire.'\n",
      "Accuracy: 0.7857142857142857\n",
      "\n",
      "Explanation: expresses satisfaction with the dining experience; specifically, the text conveys enjoyment of eating on the flight. For example, 'I really enjoyed my meal.'\n",
      "Accuracy: 0.7857142857142857\n",
      "\n",
      "Explanation: mentions a memorable culinary experience; specifically, the text expresses anticipation or satisfaction related to dining. For example, 'I can't wait to try more of their dishes because the flavors were amazing.'\n",
      "Accuracy: 0.7857142857142857\n",
      "\n",
      "\n"
     ]
    },
    {
     "name": "stderr",
     "output_type": "stream",
     "text": [
      "\n"
     ]
    }
   ],
   "source": [
    "result = explain_diff(**dataset, proposer_num_rounds=5, proposer_num_explanations_per_round=3, proposer_precise=True)\n",
    "\n",
    "print(result)"
   ]
  },
  {
   "cell_type": "code",
   "execution_count": 4,
   "metadata": {},
   "outputs": [
    {
     "name": "stderr",
     "output_type": "stream",
     "text": [
      "===2025-05-09 16:40:33 - diff.py - Line 116 - INFO ===\n",
      " Performing K-sparse regression on 15 features 28 samples\n",
      "\n",
      "\n"
     ]
    },
    {
     "name": "stdout",
     "output_type": "stream",
     "text": [
      "5: expresses satisfaction with the dining experience; specifically, the text conveys enjoyment of eating on the flight. For example, 'I really enjoyed my meal.'\n",
      "  coef: 1.33274182272121\n",
      "14: mentions a memorable culinary experience; specifically, the text expresses anticipation or satisfaction related to dining. For example, 'I can't wait to try more of their dishes because the flavors were amazing.'\n",
      "  coef: 1.3324250803176998\n"
     ]
    }
   ],
   "source": [
    "### Extracting multiple explanations by fitting a linear model on top\n",
    "\n",
    "feature_vals = np.array(result.validation_results).T\n",
    "\n",
    "explanation_coefs = KSparseRegression(feature_vals, result.Y, K=2)\n",
    "\n",
    "for explanation_idx, explanation in enumerate(result.all_explanations):\n",
    "    if explanation_coefs[explanation_idx] != 0:\n",
    "        print(f\"{explanation_idx}: {explanation}\")\n",
    "        print(f\"  coef: {explanation_coefs[explanation_idx]}\")"
   ]
  }
 ],
 "metadata": {
  "kernelspec": {
   "display_name": "llm-explain",
   "language": "python",
   "name": "python3"
  },
  "language_info": {
   "codemirror_mode": {
    "name": "ipython",
    "version": 3
   },
   "file_extension": ".py",
   "mimetype": "text/x-python",
   "name": "python",
   "nbconvert_exporter": "python",
   "pygments_lexer": "ipython3",
   "version": "3.9.21"
  }
 },
 "nbformat": 4,
 "nbformat_minor": 2
}
