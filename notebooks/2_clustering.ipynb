{
 "cells": [
  {
   "cell_type": "code",
   "execution_count": 5,
   "metadata": {},
   "outputs": [],
   "source": [
    "from llm_explain.models.cluster import ClusteringResult, explain_cluster\n",
    "from llm_explain.llm.propose import create_proposer_cluster_prompt_body\n",
    "from llm_explain.data.samples import news_title_for_clustering"
   ]
  },
  {
   "cell_type": "code",
   "execution_count": 2,
   "metadata": {},
   "outputs": [],
   "source": [
    "# a quick and easy test to check if the cluster model works\n",
    "X = [\"cat\", \"dog\", \"fish\", \"carrot\", \"potato\", \"apple\"]"
   ]
  },
  {
   "cell_type": "markdown",
   "metadata": {},
   "source": [
    "### The prompt for clustering"
   ]
  },
  {
   "cell_type": "code",
   "execution_count": 4,
   "metadata": {},
   "outputs": [
    {
     "name": "stdout",
     "output_type": "stream",
     "text": [
      "\n",
      "Here are some x_samples.\n",
      "\n",
      "Sample.0: cat\n",
      "Sample.1: dog\n",
      "Sample.2: fish\n",
      "Sample.3: carrot\n",
      "Sample.4: potato\n",
      "Sample.5: apple\n",
      "\n",
      "We want to cluster the x_samples. Please suggest me at most 2 descriptions. Each of them needs to be a predicate about a text.. Each predicate needs to be wrapped in <predicate> tags.\n",
      "\n",
      "Here are some example predicates:\n",
      "<predicate>uses double negation</predicate>\n",
      "<predicate>has a conservative stance</predicate>\n",
      "\n",
      "Just output the predicates surrounded by <predicate> tags. Do not include any other text.\n",
      "\n"
     ]
    }
   ],
   "source": [
    "prompt = create_proposer_cluster_prompt_body(X, num_explanations=2)\n",
    "print(prompt)"
   ]
  },
  {
   "cell_type": "markdown",
   "metadata": {},
   "source": [
    "### A toy example for clustering news titles\n",
    "\n",
    "See the propose-validate-select implementation in llm_explain.models.cluster"
   ]
  },
  {
   "cell_type": "code",
   "execution_count": 7,
   "metadata": {},
   "outputs": [
    {
     "name": "stdout",
     "output_type": "stream",
     "text": [
      "Clustering Result on news title dataset:\n",
      "Cluster 1: relates to the entertainment industry\n",
      "  - Celebrity Power Couple Announces Separation\n",
      "  - New Video Game Release Exceeds Sales Expectations\n",
      "  - Blockbuster Movie Breaks Box Office Records\n",
      "  - Popular Band Announces World Tour Dates\n",
      "  - Streaming Service Wins Big at Emmy Awards\n",
      "\n",
      "Cluster 2: involves a political event\n",
      "  - Supreme Court Rules on Landmark Privacy Case\n",
      "  - Prime Minister Announces Major Cabinet Reshuffle\n",
      "  - New Voter ID Laws Spark Nationwide Controversy\n",
      "  - Presidential Candidates Face Off in First Debate\n",
      "  - Senate Passes Historic Climate Bill After Marathon Debate\n",
      "\n",
      "Cluster 3: involves sports and athlete-related events\n",
      "  - Underdog Team Claims Championship in Overtime Victory\n",
      "  - Tennis Champion Retires After 20-Year Career\n",
      "  - Olympic Committee Announces Host City for 2036 Games\n",
      "  - Basketball Team Sets New Winning Streak Record\n",
      "  - Star Athlete Signs Record-Breaking Contract\n",
      "\n",
      "Cluster 4: involves a major business or industry change\n",
      "  - Global Markets React to Interest Rate Changes\n",
      "  - Electric Vehicle Maker Expands Production Globally\n",
      "  - Major Merger Creates New Industry Leader\n",
      "  - Cryptocurrency Regulations Shake Digital Markets\n",
      "  - Tech Giant Unveils Revolutionary AI Platform\n",
      "\n",
      "\n"
     ]
    }
   ],
   "source": [
    "clustering_result: ClusteringResult = explain_cluster(news_title_for_clustering, num_clusters=4, proposer_num_rounds=6, proposer_num_explanations_per_round=4, proposer_num_x_samples_per_round=6, proposer_precise=False)\n",
    "print(\"Clustering Result on news title dataset:\")\n",
    "print(clustering_result)"
   ]
  }
 ],
 "metadata": {
  "kernelspec": {
   "display_name": "llm-explain",
   "language": "python",
   "name": "python3"
  },
  "language_info": {
   "codemirror_mode": {
    "name": "ipython",
    "version": 3
   },
   "file_extension": ".py",
   "mimetype": "text/x-python",
   "name": "python",
   "nbconvert_exporter": "python",
   "pygments_lexer": "ipython3",
   "version": "3.9.21"
  }
 },
 "nbformat": 4,
 "nbformat_minor": 2
}
